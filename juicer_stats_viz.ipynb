{
 "cells": [
  {
   "cell_type": "code",
   "execution_count": 19,
   "metadata": {},
   "outputs": [],
   "source": [
    "# Import the necessary libraries\n",
    "import numpy as np\n",
    "import pandas as pd\n",
    "import matplotlib.pyplot as plt\n",
    "%matplotlib inline\n",
    "import seaborn as sns\n",
    "\n",
    "# Set the path to your .txt statistics file from juicer output\n",
    "MY_STATS_FILE = 'rep1_inter_30.txt'"
   ]
  },
  {
   "cell_type": "code",
   "execution_count": 129,
   "metadata": {},
   "outputs": [],
   "source": [
    "data = pd.read_csv(MY_STATS_FILE, sep=\":\", header=0, names=['category', 'num'])"
   ]
  },
  {
   "cell_type": "code",
   "execution_count": 134,
   "metadata": {},
   "outputs": [
    {
     "name": "stdout",
     "output_type": "stream",
     "text": [
      "                              category        num\n",
      "0                 Sequenced Read Pairs  137318874\n",
      "1                        Normal Paired  116488795\n",
      "2                      Chimeric Paired   12161336\n",
      "3                   Chimeric Ambiguous    3463185\n",
      "4                             Unmapped    5205558\n",
      "5               Ligation Motif Present   55192753\n",
      "6   Alignable (Normal+Chimeric Paired)  128650131\n",
      "7                         Unique Reads  117249732\n",
      "8                       PCR Duplicates   11371008\n",
      "9                   Optical Duplicates      29391\n",
      "11                Intra-fragment Reads    2052068\n",
      "12                Below MAPQ Threshold   42748936\n",
      "13                       Hi-C Contacts   72448728\n",
      "14              Ligation Motif Present   25885184\n",
      "17                   Inter-chromosomal   29899985\n",
      "18                   Intra-chromosomal   42548743\n",
      "19                 Short Range (<20Kb)   18797918\n",
      "20                  Long Range (>20Kb)   23750029\n"
     ]
    }
   ],
   "source": [
    "print(data)"
   ]
  },
  {
   "cell_type": "code",
   "execution_count": 131,
   "metadata": {},
   "outputs": [],
   "source": [
    "# Format to only return the actual number of reads per category\n",
    "data['num'] = data['num'].str.replace(',', '')\n",
    "data['num'] = data['num'].str.strip()\n",
    "data['num'] = data['num'].str.split()\n",
    "data['num'] = data['num'].str[0]"
   ]
  },
  {
   "cell_type": "code",
   "execution_count": 132,
   "metadata": {},
   "outputs": [],
   "source": [
    "# Format category names and drop rows that do not contain numbers of reads\n",
    "data['category'] = data['category'].str.strip()\n",
    "data = data.drop([10, 15, 16])"
   ]
  },
  {
   "cell_type": "code",
   "execution_count": 133,
   "metadata": {},
   "outputs": [],
   "source": [
    "# Change the datatype to integer\n",
    "data['num'] = data['num'].astype('int')"
   ]
  },
  {
   "cell_type": "code",
   "execution_count": 141,
   "metadata": {},
   "outputs": [
    {
     "data": {
      "image/png": "[encoded data removed]",
      "text/plain": [
       "<Figure size 432x288 with 1 Axes>"
      ]
     },
     "metadata": {
      "needs_background": "light"
     },
     "output_type": "display_data"
    }
   ],
   "source": [
    "ax = sns.barplot(x=\"category\", y=\"num\", data=data.iloc[[0, 1, 6, 7, 12]],\n",
    "                palette=\"Blues_d\")"
   ]
  },
  {
   "cell_type": "code",
   "execution_count": null,
   "metadata": {},
   "outputs": [],
   "source": []
  }
 ],
 "metadata": {
  "kernelspec": {
   "display_name": "Python 3",
   "language": "python",
   "name": "python3"
  },
  "language_info": {
   "codemirror_mode": {
    "name": "ipython",
    "version": 3
   },
   "file_extension": ".py",
   "mimetype": "text/x-python",
   "name": "python",
   "nbconvert_exporter": "python",
   "pygments_lexer": "ipython3",
   "version": "3.8.3"
  }
 },
 "nbformat": 4,
 "nbformat_minor": 4
}
